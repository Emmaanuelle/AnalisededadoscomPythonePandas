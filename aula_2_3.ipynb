{
  "nbformat": 4,
  "nbformat_minor": 0,
  "metadata": {
    "colab": {
      "name": "aula 2_3.ipynb",
      "provenance": [],
      "authorship_tag": "ABX9TyN6PUBK9qmOxEAQsGwPbfzY",
      "include_colab_link": true
    },
    "kernelspec": {
      "name": "python3",
      "display_name": "Python 3"
    }
  },
  "cells": [
    {
      "cell_type": "markdown",
      "metadata": {
        "id": "view-in-github",
        "colab_type": "text"
      },
      "source": [
        "<a href=\"https://colab.research.google.com/github/Emmaanuelle/AnalisededadoscomPythonePandas/blob/master/aula_2_3.ipynb\" target=\"_parent\"><img src=\"https://colab.research.google.com/assets/colab-badge.svg\" alt=\"Open In Colab\"/></a>"
      ]
    },
    {
      "cell_type": "code",
      "metadata": {
        "id": "BcZ0GEoYmSRf",
        "colab_type": "code",
        "colab": {}
      },
      "source": [
        "#estrutura de dados\n",
        "# listas"
      ],
      "execution_count": 1,
      "outputs": []
    },
    {
      "cell_type": "code",
      "metadata": {
        "id": "KBhDoCWwmZVk",
        "colab_type": "code",
        "colab": {
          "base_uri": "https://localhost:8080/",
          "height": 34
        },
        "outputId": "16d73f1a-ee9b-4bb8-e9c0-b852a62731d3"
      },
      "source": [
        "#criando uma lista chamada fruta\n",
        "fruta = [1,2,3]\n",
        "fruta"
      ],
      "execution_count": 2,
      "outputs": [
        {
          "output_type": "execute_result",
          "data": {
            "text/plain": [
              "[1, 2, 3]"
            ]
          },
          "metadata": {
            "tags": []
          },
          "execution_count": 2
        }
      ]
    },
    {
      "cell_type": "code",
      "metadata": {
        "id": "9ELS3r7XmoN_",
        "colab_type": "code",
        "colab": {
          "base_uri": "https://localhost:8080/",
          "height": 34
        },
        "outputId": "86088123-8ae7-4c46-c75d-30129e199068"
      },
      "source": [
        "fruta = [\"uva\",\"maça\",\"pêra\",\"banana\",\"laranja\"]\n",
        "fruta"
      ],
      "execution_count": 3,
      "outputs": [
        {
          "output_type": "execute_result",
          "data": {
            "text/plain": [
              "['uva', 'maça', 'pêra', 'banana', 'laranja']"
            ]
          },
          "metadata": {
            "tags": []
          },
          "execution_count": 3
        }
      ]
    },
    {
      "cell_type": "code",
      "metadata": {
        "id": "JWvz9ZSimy1H",
        "colab_type": "code",
        "colab": {}
      },
      "source": [
        "#imprimindo o primeiro elemento da lista"
      ],
      "execution_count": 4,
      "outputs": []
    },
    {
      "cell_type": "code",
      "metadata": {
        "id": "mTn_iYuPm44g",
        "colab_type": "code",
        "colab": {
          "base_uri": "https://localhost:8080/",
          "height": 35
        },
        "outputId": "7c0b6487-fb4e-4ba0-e224-96166c263dea"
      },
      "source": [
        "fruta[0]"
      ],
      "execution_count": 5,
      "outputs": [
        {
          "output_type": "execute_result",
          "data": {
            "application/vnd.google.colaboratory.intrinsic+json": {
              "type": "string"
            },
            "text/plain": [
              "'uva'"
            ]
          },
          "metadata": {
            "tags": []
          },
          "execution_count": 5
        }
      ]
    },
    {
      "cell_type": "code",
      "metadata": {
        "id": "VnZJ-d8Mm7qU",
        "colab_type": "code",
        "colab": {
          "base_uri": "https://localhost:8080/",
          "height": 35
        },
        "outputId": "eeb80133-43f9-4d9f-af27-6875c18c938c"
      },
      "source": [
        "fruta[3]"
      ],
      "execution_count": 6,
      "outputs": [
        {
          "output_type": "execute_result",
          "data": {
            "application/vnd.google.colaboratory.intrinsic+json": {
              "type": "string"
            },
            "text/plain": [
              "'banana'"
            ]
          },
          "metadata": {
            "tags": []
          },
          "execution_count": 6
        }
      ]
    },
    {
      "cell_type": "code",
      "metadata": {
        "id": "ewn6OsU7m-oE",
        "colab_type": "code",
        "colab": {
          "base_uri": "https://localhost:8080/",
          "height": 34
        },
        "outputId": "9cd6586d-0df5-49c6-e684-3167b88015a9"
      },
      "source": [
        "fruta[0:5]"
      ],
      "execution_count": 7,
      "outputs": [
        {
          "output_type": "execute_result",
          "data": {
            "text/plain": [
              "['uva', 'maça', 'pêra', 'banana', 'laranja']"
            ]
          },
          "metadata": {
            "tags": []
          },
          "execution_count": 7
        }
      ]
    },
    {
      "cell_type": "code",
      "metadata": {
        "id": "Xav7hifXnBQ1",
        "colab_type": "code",
        "colab": {}
      },
      "source": [
        "#substituindo o primeior elemnto da lista"
      ],
      "execution_count": 9,
      "outputs": []
    },
    {
      "cell_type": "code",
      "metadata": {
        "id": "XSeeQfm-nI5Z",
        "colab_type": "code",
        "colab": {
          "base_uri": "https://localhost:8080/",
          "height": 34
        },
        "outputId": "b116c3be-043a-483c-881e-1c9c2843a0b3"
      },
      "source": [
        "fruta [2] = \"berinjela\"\n",
        "fruta"
      ],
      "execution_count": 10,
      "outputs": [
        {
          "output_type": "execute_result",
          "data": {
            "text/plain": [
              "['uva', 'maça', 'berinjela', 'banana', 'laranja']"
            ]
          },
          "metadata": {
            "tags": []
          },
          "execution_count": 10
        }
      ]
    },
    {
      "cell_type": "code",
      "metadata": {
        "id": "xlZ7oM_inOdE",
        "colab_type": "code",
        "colab": {
          "base_uri": "https://localhost:8080/",
          "height": 34
        },
        "outputId": "e9de4941-7b52-49cf-9502-191c51e975cf"
      },
      "source": [
        "fruta"
      ],
      "execution_count": 11,
      "outputs": [
        {
          "output_type": "execute_result",
          "data": {
            "text/plain": [
              "['uva', 'maça', 'berinjela', 'banana', 'laranja']"
            ]
          },
          "metadata": {
            "tags": []
          },
          "execution_count": 11
        }
      ]
    },
    {
      "cell_type": "code",
      "metadata": {
        "id": "8QGMoA2DnU2O",
        "colab_type": "code",
        "colab": {}
      },
      "source": [
        "#remove elemnto da lista\n",
        "fruta.remove(\"maça\")"
      ],
      "execution_count": 12,
      "outputs": []
    },
    {
      "cell_type": "code",
      "metadata": {
        "id": "8sE2FaTRnblc",
        "colab_type": "code",
        "colab": {
          "base_uri": "https://localhost:8080/",
          "height": 34
        },
        "outputId": "baf37cb9-3da6-4401-83cd-1abad7a664f3"
      },
      "source": [
        "fruta"
      ],
      "execution_count": 13,
      "outputs": [
        {
          "output_type": "execute_result",
          "data": {
            "text/plain": [
              "['uva', 'berinjela', 'banana', 'laranja']"
            ]
          },
          "metadata": {
            "tags": []
          },
          "execution_count": 13
        }
      ]
    },
    {
      "cell_type": "code",
      "metadata": {
        "id": "Xb_fKJbencYO",
        "colab_type": "code",
        "colab": {
          "base_uri": "https://localhost:8080/",
          "height": 34
        },
        "outputId": "eaeb5c4d-f69a-41a6-d185-838a9d0b5b2f"
      },
      "source": [
        "#tamanho da lista\n",
        "len(fruta)"
      ],
      "execution_count": 14,
      "outputs": [
        {
          "output_type": "execute_result",
          "data": {
            "text/plain": [
              "4"
            ]
          },
          "metadata": {
            "tags": []
          },
          "execution_count": 14
        }
      ]
    },
    {
      "cell_type": "code",
      "metadata": {
        "id": "P3bWHvjQniLF",
        "colab_type": "code",
        "colab": {
          "base_uri": "https://localhost:8080/",
          "height": 34
        },
        "outputId": "b553118a-217d-4489-acd1-07c15df03c33"
      },
      "source": [
        "#elemento pertecen a lista\n",
        "\"maça\" in fruta\n"
      ],
      "execution_count": 15,
      "outputs": [
        {
          "output_type": "execute_result",
          "data": {
            "text/plain": [
              "False"
            ]
          },
          "metadata": {
            "tags": []
          },
          "execution_count": 15
        }
      ]
    },
    {
      "cell_type": "code",
      "metadata": {
        "id": "ZMaBCjOBnuu9",
        "colab_type": "code",
        "colab": {
          "base_uri": "https://localhost:8080/",
          "height": 34
        },
        "outputId": "1d63e7e8-74e5-4075-8f37-0ee19f5c1497"
      },
      "source": [
        "fruta"
      ],
      "execution_count": 16,
      "outputs": [
        {
          "output_type": "execute_result",
          "data": {
            "text/plain": [
              "['uva', 'berinjela', 'banana', 'laranja']"
            ]
          },
          "metadata": {
            "tags": []
          },
          "execution_count": 16
        }
      ]
    },
    {
      "cell_type": "code",
      "metadata": {
        "id": "idZZAa6Bnvyd",
        "colab_type": "code",
        "colab": {}
      },
      "source": [
        "#criando lista númerica\n",
        "lista = [1, 56, 89 ,100, 8, 20]\n"
      ],
      "execution_count": 17,
      "outputs": []
    },
    {
      "cell_type": "code",
      "metadata": {
        "id": "Mq1ptUTBn3dK",
        "colab_type": "code",
        "colab": {
          "base_uri": "https://localhost:8080/",
          "height": 34
        },
        "outputId": "25f5c34d-e0c6-4bb7-f8a0-17d584b9d92d"
      },
      "source": [
        "#saber o valor maximo da lista\n",
        "max(lista)"
      ],
      "execution_count": 19,
      "outputs": [
        {
          "output_type": "execute_result",
          "data": {
            "text/plain": [
              "100"
            ]
          },
          "metadata": {
            "tags": []
          },
          "execution_count": 19
        }
      ]
    },
    {
      "cell_type": "code",
      "metadata": {
        "id": "5ZmztoF6n-4u",
        "colab_type": "code",
        "colab": {
          "base_uri": "https://localhost:8080/",
          "height": 34
        },
        "outputId": "55e455a2-d050-4365-b349-d46b29848eef"
      },
      "source": [
        "#saber o valor minino da lista\n",
        "min(lista)"
      ],
      "execution_count": 20,
      "outputs": [
        {
          "output_type": "execute_result",
          "data": {
            "text/plain": [
              "1"
            ]
          },
          "metadata": {
            "tags": []
          },
          "execution_count": 20
        }
      ]
    },
    {
      "cell_type": "code",
      "metadata": {
        "id": "kRs_VN8ioId1",
        "colab_type": "code",
        "colab": {}
      },
      "source": [
        "#adiciona elemnto na lista\n",
        "lista.append(\"papagaio\")"
      ],
      "execution_count": 23,
      "outputs": []
    },
    {
      "cell_type": "code",
      "metadata": {
        "id": "d-2q-ihnoTcX",
        "colab_type": "code",
        "colab": {
          "base_uri": "https://localhost:8080/",
          "height": 34
        },
        "outputId": "bf7ceeb9-f2f4-423c-a1a9-76017308766b"
      },
      "source": [
        "lista"
      ],
      "execution_count": 24,
      "outputs": [
        {
          "output_type": "execute_result",
          "data": {
            "text/plain": [
              "[1, 56, 89, 100, 8, 20, 'papagaio']"
            ]
          },
          "metadata": {
            "tags": []
          },
          "execution_count": 24
        }
      ]
    },
    {
      "cell_type": "code",
      "metadata": {
        "id": "rNv-6gSToeHv",
        "colab_type": "code",
        "colab": {}
      },
      "source": [
        "fruta.append('abacaxi')"
      ],
      "execution_count": 25,
      "outputs": []
    },
    {
      "cell_type": "code",
      "metadata": {
        "id": "1Ropb8DZojKt",
        "colab_type": "code",
        "colab": {
          "base_uri": "https://localhost:8080/",
          "height": 34
        },
        "outputId": "e915249a-896d-4d42-9e90-95f8fa7ff201"
      },
      "source": [
        "fruta"
      ],
      "execution_count": 26,
      "outputs": [
        {
          "output_type": "execute_result",
          "data": {
            "text/plain": [
              "['uva', 'berinjela', 'banana', 'laranja', 'abacaxi']"
            ]
          },
          "metadata": {
            "tags": []
          },
          "execution_count": 26
        }
      ]
    },
    {
      "cell_type": "code",
      "metadata": {
        "id": "_RSJdDqMojx0",
        "colab_type": "code",
        "colab": {}
      },
      "source": [
        "# adicioanr amis de um elemento na lista\n",
        "fruta.extend([\"cobra\", 9])\n"
      ],
      "execution_count": 27,
      "outputs": []
    },
    {
      "cell_type": "code",
      "metadata": {
        "id": "PDGlVa0Po4HY",
        "colab_type": "code",
        "colab": {
          "base_uri": "https://localhost:8080/",
          "height": 34
        },
        "outputId": "b34712a8-8d58-4354-d942-2ccee8cd527e"
      },
      "source": [
        "fruta"
      ],
      "execution_count": 28,
      "outputs": [
        {
          "output_type": "execute_result",
          "data": {
            "text/plain": [
              "['uva', 'berinjela', 'banana', 'laranja', 'abacaxi', 'cobra', 9]"
            ]
          },
          "metadata": {
            "tags": []
          },
          "execution_count": 28
        }
      ]
    },
    {
      "cell_type": "code",
      "metadata": {
        "id": "_BDuvEldo49_",
        "colab_type": "code",
        "colab": {
          "base_uri": "https://localhost:8080/",
          "height": 34
        },
        "outputId": "1c7a6a2b-e0f4-43a4-87ab-36b17607f803"
      },
      "source": [
        "#metodo count\n",
        "fruta.count(\"uva\")\n",
        "fruta"
      ],
      "execution_count": 29,
      "outputs": [
        {
          "output_type": "execute_result",
          "data": {
            "text/plain": [
              "['uva', 'berinjela', 'banana', 'laranja', 'abacaxi', 'cobra', 9]"
            ]
          },
          "metadata": {
            "tags": []
          },
          "execution_count": 29
        }
      ]
    },
    {
      "cell_type": "code",
      "metadata": {
        "id": "odYxOTPHpN0B",
        "colab_type": "code",
        "colab": {
          "base_uri": "https://localhost:8080/",
          "height": 34
        },
        "outputId": "140620a1-35bc-4ec1-ea61-c71eca48f901"
      },
      "source": [
        "fruta.count(\"uva\")"
      ],
      "execution_count": 30,
      "outputs": [
        {
          "output_type": "execute_result",
          "data": {
            "text/plain": [
              "1"
            ]
          },
          "metadata": {
            "tags": []
          },
          "execution_count": 30
        }
      ]
    },
    {
      "cell_type": "code",
      "metadata": {
        "id": "qHLg_etjpSX8",
        "colab_type": "code",
        "colab": {
          "base_uri": "https://localhost:8080/",
          "height": 34
        },
        "outputId": "c9c88b28-659f-46c4-aa35-c0a17043c3c4"
      },
      "source": [
        "#metodo sort organiza do maior para o menor\n",
        "lista.remove(\"papagaio\")\n",
        "lista"
      ],
      "execution_count": 34,
      "outputs": [
        {
          "output_type": "execute_result",
          "data": {
            "text/plain": [
              "[1, 8, 20, 56, 89, 100]"
            ]
          },
          "metadata": {
            "tags": []
          },
          "execution_count": 34
        }
      ]
    },
    {
      "cell_type": "code",
      "metadata": {
        "id": "kGRy6cvzpZy6",
        "colab_type": "code",
        "colab": {
          "base_uri": "https://localhost:8080/",
          "height": 34
        },
        "outputId": "acfc9ce1-4694-4146-f839-880f2434b485"
      },
      "source": [
        "lista.sort()\n",
        "lista"
      ],
      "execution_count": 35,
      "outputs": [
        {
          "output_type": "execute_result",
          "data": {
            "text/plain": [
              "[1, 8, 20, 56, 89, 100]"
            ]
          },
          "metadata": {
            "tags": []
          },
          "execution_count": 35
        }
      ]
    },
    {
      "cell_type": "code",
      "metadata": {
        "id": "s5okYpGZpson",
        "colab_type": "code",
        "colab": {}
      },
      "source": [
        "#Tuplas"
      ],
      "execution_count": 36,
      "outputs": []
    },
    {
      "cell_type": "code",
      "metadata": {
        "id": "b0OnZinJp1i9",
        "colab_type": "code",
        "colab": {}
      },
      "source": [
        "#criando uma tupla\n",
        "tp = (\"banana\", \"uva\",1,30)"
      ],
      "execution_count": 37,
      "outputs": []
    },
    {
      "cell_type": "code",
      "metadata": {
        "id": "WsyXvI0DqCMW",
        "colab_type": "code",
        "colab": {
          "base_uri": "https://localhost:8080/",
          "height": 35
        },
        "outputId": "6070a7de-da0f-4c11-f0e9-2b745504fe15"
      },
      "source": [
        "#retornar o primeior elemento\n",
        "tp[0]"
      ],
      "execution_count": 38,
      "outputs": [
        {
          "output_type": "execute_result",
          "data": {
            "application/vnd.google.colaboratory.intrinsic+json": {
              "type": "string"
            },
            "text/plain": [
              "'banana'"
            ]
          },
          "metadata": {
            "tags": []
          },
          "execution_count": 38
        }
      ]
    },
    {
      "cell_type": "code",
      "metadata": {
        "id": "PSrOEMo0qIB2",
        "colab_type": "code",
        "colab": {}
      },
      "source": [
        "#as tuplas são imutáveis\n",
        "#não pode ser alterada\n"
      ],
      "execution_count": 39,
      "outputs": []
    },
    {
      "cell_type": "code",
      "metadata": {
        "id": "bCty5A2ZqXxU",
        "colab_type": "code",
        "colab": {
          "base_uri": "https://localhost:8080/",
          "height": 34
        },
        "outputId": "6ac2467f-cc05-499e-ebdd-3addc5c7418b"
      },
      "source": [
        "#contando os elementos\n",
        "tp.count(\"uva\")"
      ],
      "execution_count": 40,
      "outputs": [
        {
          "output_type": "execute_result",
          "data": {
            "text/plain": [
              "1"
            ]
          },
          "metadata": {
            "tags": []
          },
          "execution_count": 40
        }
      ]
    },
    {
      "cell_type": "code",
      "metadata": {
        "id": "w5Lrr6NNqcy0",
        "colab_type": "code",
        "colab": {
          "base_uri": "https://localhost:8080/",
          "height": 34
        },
        "outputId": "2837af5f-8a16-479f-b158-8fddbd3f3f36"
      },
      "source": [
        "#eslaice\n",
        "tp[0:4]\n"
      ],
      "execution_count": 41,
      "outputs": [
        {
          "output_type": "execute_result",
          "data": {
            "text/plain": [
              "('banana', 'uva', 1, 30)"
            ]
          },
          "metadata": {
            "tags": []
          },
          "execution_count": 41
        }
      ]
    },
    {
      "cell_type": "code",
      "metadata": {
        "id": "SvZabk6-qmxR",
        "colab_type": "code",
        "colab": {
          "base_uri": "https://localhost:8080/",
          "height": 34
        },
        "outputId": "4c5f7ad7-9d67-46d3-8fe4-b53867443d43"
      },
      "source": [
        "tp[0:3]"
      ],
      "execution_count": 42,
      "outputs": [
        {
          "output_type": "execute_result",
          "data": {
            "text/plain": [
              "('banana', 'uva', 1)"
            ]
          },
          "metadata": {
            "tags": []
          },
          "execution_count": 42
        }
      ]
    },
    {
      "cell_type": "code",
      "metadata": {
        "id": "NNS-J8xqqplQ",
        "colab_type": "code",
        "colab": {}
      },
      "source": [
        "#dicionáiros"
      ],
      "execution_count": 43,
      "outputs": []
    },
    {
      "cell_type": "code",
      "metadata": {
        "id": "TDRnuziUqvSJ",
        "colab_type": "code",
        "colab": {}
      },
      "source": [
        "#criar o dicionario {}, passa a chave é o valor\n",
        "dicionario = {\"maça\":60,\"banana\":50,\"uva\":20}"
      ],
      "execution_count": 44,
      "outputs": []
    },
    {
      "cell_type": "code",
      "metadata": {
        "id": "ycKYR29QrE7_",
        "colab_type": "code",
        "colab": {
          "base_uri": "https://localhost:8080/",
          "height": 34
        },
        "outputId": "e5b27240-b73f-4e59-9845-0470813754a1"
      },
      "source": [
        "dicionario"
      ],
      "execution_count": 45,
      "outputs": [
        {
          "output_type": "execute_result",
          "data": {
            "text/plain": [
              "{'banana': 50, 'maça': 60, 'uva': 20}"
            ]
          },
          "metadata": {
            "tags": []
          },
          "execution_count": 45
        }
      ]
    },
    {
      "cell_type": "code",
      "metadata": {
        "id": "HVSeKf05rGh-",
        "colab_type": "code",
        "colab": {
          "base_uri": "https://localhost:8080/",
          "height": 34
        },
        "outputId": "8f303fce-1c35-4807-d71a-40021c5fd7a7"
      },
      "source": [
        "#acessando o valor de um dicionario atraves da chave\n",
        "dicionario[\"uva\"]"
      ],
      "execution_count": 47,
      "outputs": [
        {
          "output_type": "execute_result",
          "data": {
            "text/plain": [
              "20"
            ]
          },
          "metadata": {
            "tags": []
          },
          "execution_count": 47
        }
      ]
    },
    {
      "cell_type": "code",
      "metadata": {
        "id": "yH_HOtzQrPQY",
        "colab_type": "code",
        "colab": {
          "base_uri": "https://localhost:8080/",
          "height": 34
        },
        "outputId": "445db9ce-278f-4ba4-f140-6ba92bf6465c"
      },
      "source": [
        "#atualizar o valor \n",
        "dicionario[\"uva\"] = 100\n",
        "dicionario"
      ],
      "execution_count": 48,
      "outputs": [
        {
          "output_type": "execute_result",
          "data": {
            "text/plain": [
              "{'banana': 50, 'maça': 60, 'uva': 100}"
            ]
          },
          "metadata": {
            "tags": []
          },
          "execution_count": 48
        }
      ]
    },
    {
      "cell_type": "code",
      "metadata": {
        "id": "2k6xyocnrcPf",
        "colab_type": "code",
        "colab": {
          "base_uri": "https://localhost:8080/",
          "height": 34
        },
        "outputId": "bea02554-4366-4458-9568-33730023a4c4"
      },
      "source": [
        "#retorna todos as chaves do dicionario\n",
        "dicionario.keys()"
      ],
      "execution_count": 50,
      "outputs": [
        {
          "output_type": "execute_result",
          "data": {
            "text/plain": [
              "dict_keys(['maça', 'banana', 'uva'])"
            ]
          },
          "metadata": {
            "tags": []
          },
          "execution_count": 50
        }
      ]
    },
    {
      "cell_type": "code",
      "metadata": {
        "id": "Ubjuf-l4roEI",
        "colab_type": "code",
        "colab": {
          "base_uri": "https://localhost:8080/",
          "height": 34
        },
        "outputId": "8f21224e-e990-4351-8707-0e360b252384"
      },
      "source": [
        "#retornar os valores do dicionario\n",
        "dicionario.values()"
      ],
      "execution_count": 51,
      "outputs": [
        {
          "output_type": "execute_result",
          "data": {
            "text/plain": [
              "dict_values([60, 50, 100])"
            ]
          },
          "metadata": {
            "tags": []
          },
          "execution_count": 51
        }
      ]
    },
    {
      "cell_type": "code",
      "metadata": {
        "id": "0bd_oce9rxjm",
        "colab_type": "code",
        "colab": {
          "base_uri": "https://localhost:8080/",
          "height": 34
        },
        "outputId": "bd43aaed-5974-4121-ed4c-5b5adc78bce9"
      },
      "source": [
        "#verifica se existe uma chave no dicionario, se não existe ele adiciona\n",
        "dicionario.setdefault(\"limão\",23)"
      ],
      "execution_count": 52,
      "outputs": [
        {
          "output_type": "execute_result",
          "data": {
            "text/plain": [
              "23"
            ]
          },
          "metadata": {
            "tags": []
          },
          "execution_count": 52
        }
      ]
    },
    {
      "cell_type": "code",
      "metadata": {
        "id": "uJ4P_vk7r-8q",
        "colab_type": "code",
        "colab": {
          "base_uri": "https://localhost:8080/",
          "height": 34
        },
        "outputId": "37562095-fa17-4893-bc52-77d3ace61c0a"
      },
      "source": [
        "dicionario"
      ],
      "execution_count": 53,
      "outputs": [
        {
          "output_type": "execute_result",
          "data": {
            "text/plain": [
              "{'banana': 50, 'limão': 23, 'maça': 60, 'uva': 100}"
            ]
          },
          "metadata": {
            "tags": []
          },
          "execution_count": 53
        }
      ]
    },
    {
      "cell_type": "code",
      "metadata": {
        "id": "LCc8SS3ksANw",
        "colab_type": "code",
        "colab": {}
      },
      "source": [
        "#biblioteca pandas\n",
        "#python para análise de dados (pandas)\n"
      ],
      "execution_count": 54,
      "outputs": []
    },
    {
      "cell_type": "code",
      "metadata": {
        "id": "1Vx8M2wQsSbm",
        "colab_type": "code",
        "colab": {}
      },
      "source": [
        "#mapear o google drive"
      ],
      "execution_count": 1,
      "outputs": []
    },
    {
      "cell_type": "code",
      "metadata": {
        "id": "XvOEFk1r0A8v",
        "colab_type": "code",
        "colab": {}
      },
      "source": [
        "#importando a biblioteca pandas\n",
        "import pandas as pd\n"
      ],
      "execution_count": 2,
      "outputs": []
    },
    {
      "cell_type": "code",
      "metadata": {
        "id": "dqnCWbqB0Itc",
        "colab_type": "code",
        "colab": {
          "base_uri": "https://localhost:8080/",
          "height": 54
        },
        "outputId": "bef37b29-9aed-4f26-e70f-70f3a340e5b3"
      },
      "source": [
        "# ler o conjunto de dados\n",
        "# df data frame\n",
        "# pandas vai ler um arquivo csv\n",
        "df = pd.read_csv(\"/content/Gapminder.csv\",error_bad_lines= False)"
      ],
      "execution_count": 3,
      "outputs": [
        {
          "output_type": "stream",
          "text": [
            "b'Skipping line 665: expected 1 fields, saw 2\\nSkipping line 666: expected 1 fields, saw 2\\nSkipping line 667: expected 1 fields, saw 2\\nSkipping line 668: expected 1 fields, saw 2\\nSkipping line 669: expected 1 fields, saw 2\\nSkipping line 670: expected 1 fields, saw 2\\nSkipping line 671: expected 1 fields, saw 2\\nSkipping line 672: expected 1 fields, saw 2\\nSkipping line 673: expected 1 fields, saw 2\\nSkipping line 674: expected 1 fields, saw 2\\nSkipping line 675: expected 1 fields, saw 2\\nSkipping line 676: expected 1 fields, saw 2\\nSkipping line 677: expected 1 fields, saw 2\\nSkipping line 678: expected 1 fields, saw 2\\nSkipping line 679: expected 1 fields, saw 2\\nSkipping line 680: expected 1 fields, saw 2\\nSkipping line 681: expected 1 fields, saw 2\\nSkipping line 682: expected 1 fields, saw 2\\nSkipping line 683: expected 1 fields, saw 2\\nSkipping line 684: expected 1 fields, saw 2\\nSkipping line 685: expected 1 fields, saw 2\\nSkipping line 686: expected 1 fields, saw 2\\nSkipping line 687: expected 1 fields, saw 2\\nSkipping line 688: expected 1 fields, saw 2\\nSkipping line 1275: expected 1 fields, saw 2\\nSkipping line 1276: expected 1 fields, saw 2\\nSkipping line 1277: expected 1 fields, saw 2\\nSkipping line 1278: expected 1 fields, saw 2\\nSkipping line 1279: expected 1 fields, saw 2\\nSkipping line 1280: expected 1 fields, saw 2\\nSkipping line 1281: expected 1 fields, saw 2\\nSkipping line 1282: expected 1 fields, saw 2\\nSkipping line 1283: expected 1 fields, saw 2\\nSkipping line 1284: expected 1 fields, saw 2\\nSkipping line 1285: expected 1 fields, saw 2\\nSkipping line 1286: expected 1 fields, saw 2\\nSkipping line 1629: expected 1 fields, saw 2\\nSkipping line 1630: expected 1 fields, saw 2\\nSkipping line 1631: expected 1 fields, saw 2\\nSkipping line 1632: expected 1 fields, saw 2\\nSkipping line 1633: expected 1 fields, saw 2\\nSkipping line 1634: expected 1 fields, saw 2\\nSkipping line 1635: expected 1 fields, saw 2\\nSkipping line 1636: expected 1 fields, saw 2\\nSkipping line 1637: expected 1 fields, saw 2\\nSkipping line 1638: expected 1 fields, saw 2\\nSkipping line 1639: expected 1 fields, saw 2\\nSkipping line 1640: expected 1 fields, saw 2\\nSkipping line 1641: expected 1 fields, saw 2\\nSkipping line 1642: expected 1 fields, saw 2\\nSkipping line 1643: expected 1 fields, saw 2\\nSkipping line 1644: expected 1 fields, saw 2\\nSkipping line 1645: expected 1 fields, saw 2\\nSkipping line 1646: expected 1 fields, saw 2\\nSkipping line 1647: expected 1 fields, saw 2\\nSkipping line 1648: expected 1 fields, saw 2\\nSkipping line 1649: expected 1 fields, saw 2\\nSkipping line 1650: expected 1 fields, saw 2\\nSkipping line 1651: expected 1 fields, saw 2\\nSkipping line 1652: expected 1 fields, saw 2\\nSkipping line 1823: expected 1 fields, saw 2\\nSkipping line 1824: expected 1 fields, saw 2\\nSkipping line 1825: expected 1 fields, saw 2\\nSkipping line 1826: expected 1 fields, saw 2\\nSkipping line 1827: expected 1 fields, saw 2\\nSkipping line 1828: expected 1 fields, saw 2\\nSkipping line 1829: expected 1 fields, saw 2\\nSkipping line 1830: expected 1 fields, saw 2\\nSkipping line 1935: expected 1 fields, saw 2\\nSkipping line 1936: expected 1 fields, saw 2\\nSkipping line 1937: expected 1 fields, saw 2\\nSkipping line 1938: expected 1 fields, saw 2\\nSkipping line 1939: expected 1 fields, saw 2\\nSkipping line 1940: expected 1 fields, saw 2\\nSkipping line 1941: expected 1 fields, saw 2\\nSkipping line 1942: expected 1 fields, saw 2\\nSkipping line 3278: expected 1 fields, saw 2\\nSkipping line 3279: expected 1 fields, saw 2\\nSkipping line 3280: expected 1 fields, saw 2\\nSkipping line 3281: expected 1 fields, saw 2\\nSkipping line 3282: expected 1 fields, saw 2\\nSkipping line 3283: expected 1 fields, saw 2\\nSkipping line 3284: expected 1 fields, saw 2\\nSkipping line 3285: expected 1 fields, saw 2\\nSkipping line 3286: expected 1 fields, saw 2\\nSkipping line 3287: expected 1 fields, saw 2\\nSkipping line 3288: expected 1 fields, saw 2\\nSkipping line 3289: expected 1 fields, saw 2\\n'\n"
          ],
          "name": "stderr"
        }
      ]
    },
    {
      "cell_type": "code",
      "metadata": {
        "id": "2Mc04BEn0pSk",
        "colab_type": "code",
        "colab": {
          "base_uri": "https://localhost:8080/",
          "height": 204
        },
        "outputId": "309260df-28d4-4114-c9d4-3077ea5b074d"
      },
      "source": [
        "#visualizar as 5  primeiras linhas\n",
        "df.head()"
      ],
      "execution_count": 4,
      "outputs": [
        {
          "output_type": "execute_result",
          "data": {
            "text/html": [
              "<div>\n",
              "<style scoped>\n",
              "    .dataframe tbody tr th:only-of-type {\n",
              "        vertical-align: middle;\n",
              "    }\n",
              "\n",
              "    .dataframe tbody tr th {\n",
              "        vertical-align: top;\n",
              "    }\n",
              "\n",
              "    .dataframe thead th {\n",
              "        text-align: right;\n",
              "    }\n",
              "</style>\n",
              "<table border=\"1\" class=\"dataframe\">\n",
              "  <thead>\n",
              "    <tr style=\"text-align: right;\">\n",
              "      <th></th>\n",
              "      <th>country;continent;year;lifeExp;pop;gdpPercap</th>\n",
              "    </tr>\n",
              "  </thead>\n",
              "  <tbody>\n",
              "    <tr>\n",
              "      <th>0</th>\n",
              "      <td>Afghanistan;Asia;1952;28.801;8425333;779.4453145</td>\n",
              "    </tr>\n",
              "    <tr>\n",
              "      <th>1</th>\n",
              "      <td>Afghanistan;Asia;1957;30.332;9240934;820.8530296</td>\n",
              "    </tr>\n",
              "    <tr>\n",
              "      <th>2</th>\n",
              "      <td>Afghanistan;Asia;1962;31.997;10267083;853.1007...</td>\n",
              "    </tr>\n",
              "    <tr>\n",
              "      <th>3</th>\n",
              "      <td>Afghanistan;Asia;1967;34.02;11537966;836.1971382</td>\n",
              "    </tr>\n",
              "    <tr>\n",
              "      <th>4</th>\n",
              "      <td>Afghanistan;Asia;1972;36.088;13079460;739.9811...</td>\n",
              "    </tr>\n",
              "  </tbody>\n",
              "</table>\n",
              "</div>"
            ],
            "text/plain": [
              "        country;continent;year;lifeExp;pop;gdpPercap\n",
              "0   Afghanistan;Asia;1952;28.801;8425333;779.4453145\n",
              "1   Afghanistan;Asia;1957;30.332;9240934;820.8530296\n",
              "2  Afghanistan;Asia;1962;31.997;10267083;853.1007...\n",
              "3   Afghanistan;Asia;1967;34.02;11537966;836.1971382\n",
              "4  Afghanistan;Asia;1972;36.088;13079460;739.9811..."
            ]
          },
          "metadata": {
            "tags": []
          },
          "execution_count": 4
        }
      ]
    },
    {
      "cell_type": "code",
      "metadata": {
        "id": "-A7HyhI_1uGi",
        "colab_type": "code",
        "colab": {}
      },
      "source": [
        ""
      ],
      "execution_count": null,
      "outputs": []
    }
  ]
}