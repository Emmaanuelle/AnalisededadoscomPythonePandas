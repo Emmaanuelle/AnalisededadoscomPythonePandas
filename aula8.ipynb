{
  "nbformat": 4,
  "nbformat_minor": 0,
  "metadata": {
    "colab": {
      "name": "aula8.ipynb",
      "provenance": [],
      "authorship_tag": "ABX9TyOOHSpHDMzbcnFR/ecFSFI+",
      "include_colab_link": true
    },
    "kernelspec": {
      "name": "python3",
      "display_name": "Python 3"
    }
  },
  "cells": [
    {
      "cell_type": "markdown",
      "metadata": {
        "id": "view-in-github",
        "colab_type": "text"
      },
      "source": [
        "<a href=\"https://colab.research.google.com/github/Emmaanuelle/AnalisededadoscomPythonePandas/blob/master/aula8.ipynb\" target=\"_parent\"><img src=\"https://colab.research.google.com/assets/colab-badge.svg\" alt=\"Open In Colab\"/></a>"
      ]
    },
    {
      "cell_type": "code",
      "metadata": {
        "id": "IBrjQc00di57",
        "colab_type": "code",
        "colab": {}
      },
      "source": [
        "#importando as bibliotecas\n",
        "import pandas as pd\n",
        "import matplotlib.pyplot as plt\n",
        "plt.style.use(\"seaborn\")\n"
      ],
      "execution_count": 1,
      "outputs": []
    },
    {
      "cell_type": "code",
      "metadata": {
        "id": "jIoM-FGheJoB",
        "colab_type": "code",
        "colab": {
          "resources": {
            "http://localhost:8080/nbextensions/google.colab/files.js": {
              "data": "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",
              "ok": true,
              "headers": [
                [
                  "content-type",
                  "application/javascript"
                ]
              ],
              "status": 200,
              "status_text": ""
            }
          },
          "base_uri": "https://localhost:8080/",
          "height": 38
        },
        "outputId": "2e044a55-cf85-4e45-fd83-9827743f9f2c"
      },
      "source": [
        "#uploand do arquivo\n",
        "from google.colab import files\n",
        "arq = files.upload()\n"
      ],
      "execution_count": 4,
      "outputs": [
        {
          "output_type": "display_data",
          "data": {
            "text/html": [
              "\n",
              "     <input type=\"file\" id=\"files-1e0083c4-8582-4174-be05-dd8f95b96730\" name=\"files[]\" multiple disabled\n",
              "        style=\"border:none\" />\n",
              "     <output id=\"result-1e0083c4-8582-4174-be05-dd8f95b96730\">\n",
              "      Upload widget is only available when the cell has been executed in the\n",
              "      current browser session. Please rerun this cell to enable.\n",
              "      </output>\n",
              "      <script src=\"/nbextensions/google.colab/files.js\"></script> "
            ],
            "text/plain": [
              "<IPython.core.display.HTML object>"
            ]
          },
          "metadata": {
            "tags": []
          }
        }
      ]
    },
    {
      "cell_type": "code",
      "metadata": {
        "id": "_aRQNjgHhf9d",
        "colab_type": "code",
        "colab": {}
      },
      "source": [
        "#craindo um data frame\n",
        "df = pd.read_excel(\"AdventureWorks.xlsx\")"
      ],
      "execution_count": 6,
      "outputs": []
    },
    {
      "cell_type": "code",
      "metadata": {
        "id": "SPDPsgrchwo-",
        "colab_type": "code",
        "colab": {
          "base_uri": "https://localhost:8080/",
          "height": 496
        },
        "outputId": "c7d3a492-8d5c-4662-d615-d0c76e91ea40"
      },
      "source": [
        "df. head()"
      ],
      "execution_count": 7,
      "outputs": [
        {
          "output_type": "execute_result",
          "data": {
            "text/html": [
              "<div>\n",
              "<style scoped>\n",
              "    .dataframe tbody tr th:only-of-type {\n",
              "        vertical-align: middle;\n",
              "    }\n",
              "\n",
              "    .dataframe tbody tr th {\n",
              "        vertical-align: top;\n",
              "    }\n",
              "\n",
              "    .dataframe thead th {\n",
              "        text-align: right;\n",
              "    }\n",
              "</style>\n",
              "<table border=\"1\" class=\"dataframe\">\n",
              "  <thead>\n",
              "    <tr style=\"text-align: right;\">\n",
              "      <th></th>\n",
              "      <th>Data Venda</th>\n",
              "      <th>Data Envio</th>\n",
              "      <th>ID Loja</th>\n",
              "      <th>ID Produto</th>\n",
              "      <th>ID Cliente</th>\n",
              "      <th>No. Venda</th>\n",
              "      <th>Custo Unitário</th>\n",
              "      <th>Preço Unitário</th>\n",
              "      <th>Quantidade</th>\n",
              "      <th>Valor Desconto</th>\n",
              "      <th>Valor Venda</th>\n",
              "      <th>Produto</th>\n",
              "      <th>Fabricante</th>\n",
              "      <th>Marca</th>\n",
              "      <th>Classe</th>\n",
              "      <th>Cor</th>\n",
              "    </tr>\n",
              "  </thead>\n",
              "  <tbody>\n",
              "    <tr>\n",
              "      <th>0</th>\n",
              "      <td>2008-05-09</td>\n",
              "      <td>2008-05-29</td>\n",
              "      <td>199</td>\n",
              "      <td>384</td>\n",
              "      <td>18839</td>\n",
              "      <td>200805093CS607</td>\n",
              "      <td>348.58</td>\n",
              "      <td>758.0</td>\n",
              "      <td>6</td>\n",
              "      <td>0.0</td>\n",
              "      <td>4548.0</td>\n",
              "      <td>Adventure Works Laptop15.4W M1548 Red</td>\n",
              "      <td>Adventure Works</td>\n",
              "      <td>Adventure Works</td>\n",
              "      <td>Regular</td>\n",
              "      <td>Red</td>\n",
              "    </tr>\n",
              "    <tr>\n",
              "      <th>1</th>\n",
              "      <td>2008-05-12</td>\n",
              "      <td>2008-05-17</td>\n",
              "      <td>306</td>\n",
              "      <td>384</td>\n",
              "      <td>19051</td>\n",
              "      <td>200805123CS567</td>\n",
              "      <td>348.58</td>\n",
              "      <td>758.0</td>\n",
              "      <td>6</td>\n",
              "      <td>0.0</td>\n",
              "      <td>4548.0</td>\n",
              "      <td>Adventure Works Laptop15.4W M1548 Red</td>\n",
              "      <td>Adventure Works</td>\n",
              "      <td>Adventure Works</td>\n",
              "      <td>Regular</td>\n",
              "      <td>Red</td>\n",
              "    </tr>\n",
              "    <tr>\n",
              "      <th>2</th>\n",
              "      <td>2008-05-14</td>\n",
              "      <td>2008-05-20</td>\n",
              "      <td>306</td>\n",
              "      <td>384</td>\n",
              "      <td>19052</td>\n",
              "      <td>200805143CS576</td>\n",
              "      <td>348.58</td>\n",
              "      <td>758.0</td>\n",
              "      <td>6</td>\n",
              "      <td>0.0</td>\n",
              "      <td>4548.0</td>\n",
              "      <td>Adventure Works Laptop15.4W M1548 Red</td>\n",
              "      <td>Adventure Works</td>\n",
              "      <td>Adventure Works</td>\n",
              "      <td>Regular</td>\n",
              "      <td>Red</td>\n",
              "    </tr>\n",
              "    <tr>\n",
              "      <th>3</th>\n",
              "      <td>2008-05-21</td>\n",
              "      <td>2008-05-27</td>\n",
              "      <td>306</td>\n",
              "      <td>384</td>\n",
              "      <td>19052</td>\n",
              "      <td>200805213CS576</td>\n",
              "      <td>348.58</td>\n",
              "      <td>758.0</td>\n",
              "      <td>6</td>\n",
              "      <td>0.0</td>\n",
              "      <td>4548.0</td>\n",
              "      <td>Adventure Works Laptop15.4W M1548 Red</td>\n",
              "      <td>Adventure Works</td>\n",
              "      <td>Adventure Works</td>\n",
              "      <td>Regular</td>\n",
              "      <td>Red</td>\n",
              "    </tr>\n",
              "    <tr>\n",
              "      <th>4</th>\n",
              "      <td>2008-06-20</td>\n",
              "      <td>2008-06-27</td>\n",
              "      <td>306</td>\n",
              "      <td>384</td>\n",
              "      <td>19053</td>\n",
              "      <td>200806203CS586</td>\n",
              "      <td>348.58</td>\n",
              "      <td>758.0</td>\n",
              "      <td>6</td>\n",
              "      <td>0.0</td>\n",
              "      <td>4548.0</td>\n",
              "      <td>Adventure Works Laptop15.4W M1548 Red</td>\n",
              "      <td>Adventure Works</td>\n",
              "      <td>Adventure Works</td>\n",
              "      <td>Regular</td>\n",
              "      <td>Red</td>\n",
              "    </tr>\n",
              "  </tbody>\n",
              "</table>\n",
              "</div>"
            ],
            "text/plain": [
              "  Data Venda Data Envio  ID Loja  ...            Marca   Classe  Cor\n",
              "0 2008-05-09 2008-05-29      199  ...  Adventure Works  Regular  Red\n",
              "1 2008-05-12 2008-05-17      306  ...  Adventure Works  Regular  Red\n",
              "2 2008-05-14 2008-05-20      306  ...  Adventure Works  Regular  Red\n",
              "3 2008-05-21 2008-05-27      306  ...  Adventure Works  Regular  Red\n",
              "4 2008-06-20 2008-06-27      306  ...  Adventure Works  Regular  Red\n",
              "\n",
              "[5 rows x 16 columns]"
            ]
          },
          "metadata": {
            "tags": []
          },
          "execution_count": 7
        }
      ]
    },
    {
      "cell_type": "code",
      "metadata": {
        "id": "8MkM7zBIi1qP",
        "colab_type": "code",
        "colab": {
          "base_uri": "https://localhost:8080/",
          "height": 34
        },
        "outputId": "8ed09f65-e6f4-4d5e-fa55-7b13077ab47e"
      },
      "source": [
        "#Quantidade de linhas e colunas\n",
        "df.shape"
      ],
      "execution_count": 8,
      "outputs": [
        {
          "output_type": "execute_result",
          "data": {
            "text/plain": [
              "(904, 16)"
            ]
          },
          "metadata": {
            "tags": []
          },
          "execution_count": 8
        }
      ]
    },
    {
      "cell_type": "code",
      "metadata": {
        "id": "mwM-BnzljB-e",
        "colab_type": "code",
        "colab": {
          "base_uri": "https://localhost:8080/",
          "height": 306
        },
        "outputId": "20e702d3-40b2-4bb9-c6f6-699153e3c2e4"
      },
      "source": [
        "#verificando os tipos de dados\n",
        "df.dtypes"
      ],
      "execution_count": 9,
      "outputs": [
        {
          "output_type": "execute_result",
          "data": {
            "text/plain": [
              "Data Venda        datetime64[ns]\n",
              "Data Envio        datetime64[ns]\n",
              "ID Loja                    int64\n",
              "ID Produto                 int64\n",
              "ID Cliente                 int64\n",
              "No. Venda                 object\n",
              "Custo Unitário           float64\n",
              "Preço Unitário           float64\n",
              "Quantidade                 int64\n",
              "Valor Desconto           float64\n",
              "Valor Venda              float64\n",
              "Produto                   object\n",
              "Fabricante                object\n",
              "Marca                     object\n",
              "Classe                    object\n",
              "Cor                       object\n",
              "dtype: object"
            ]
          },
          "metadata": {
            "tags": []
          },
          "execution_count": 9
        }
      ]
    },
    {
      "cell_type": "code",
      "metadata": {
        "id": "S2NOXYPRjLoz",
        "colab_type": "code",
        "colab": {
          "base_uri": "https://localhost:8080/",
          "height": 34
        },
        "outputId": "af94692a-530a-4e63-ba3f-5aedf07352cd"
      },
      "source": [
        "#Qual a recieta total\n",
        "df[\"Valor Venda\"].sum()"
      ],
      "execution_count": 10,
      "outputs": [
        {
          "output_type": "execute_result",
          "data": {
            "text/plain": [
              "5984606.1426"
            ]
          },
          "metadata": {
            "tags": []
          },
          "execution_count": 10
        }
      ]
    },
    {
      "cell_type": "code",
      "metadata": {
        "id": "hXxzpPz_jXwZ",
        "colab_type": "code",
        "colab": {}
      },
      "source": [
        "#Custo \n",
        "df[\"Custo\"] = df[\"Custo Unitário\"].mul(df[\"Quantidade\"]) # criando a coluna de custo "
      ],
      "execution_count": 18,
      "outputs": []
    },
    {
      "cell_type": "code",
      "metadata": {
        "id": "-fDSS0Qljqw_",
        "colab_type": "code",
        "colab": {
          "base_uri": "https://localhost:8080/",
          "height": 168
        },
        "outputId": "9b131a30-e491-48c2-bf9b-25093166b47c"
      },
      "source": [
        "df.head(1)"
      ],
      "execution_count": 19,
      "outputs": [
        {
          "output_type": "execute_result",
          "data": {
            "text/html": [
              "<div>\n",
              "<style scoped>\n",
              "    .dataframe tbody tr th:only-of-type {\n",
              "        vertical-align: middle;\n",
              "    }\n",
              "\n",
              "    .dataframe tbody tr th {\n",
              "        vertical-align: top;\n",
              "    }\n",
              "\n",
              "    .dataframe thead th {\n",
              "        text-align: right;\n",
              "    }\n",
              "</style>\n",
              "<table border=\"1\" class=\"dataframe\">\n",
              "  <thead>\n",
              "    <tr style=\"text-align: right;\">\n",
              "      <th></th>\n",
              "      <th>Data Venda</th>\n",
              "      <th>Data Envio</th>\n",
              "      <th>ID Loja</th>\n",
              "      <th>ID Produto</th>\n",
              "      <th>ID Cliente</th>\n",
              "      <th>No. Venda</th>\n",
              "      <th>Custo Unitário</th>\n",
              "      <th>Preço Unitário</th>\n",
              "      <th>Quantidade</th>\n",
              "      <th>Valor Desconto</th>\n",
              "      <th>Valor Venda</th>\n",
              "      <th>Produto</th>\n",
              "      <th>Fabricante</th>\n",
              "      <th>Marca</th>\n",
              "      <th>Classe</th>\n",
              "      <th>Cor</th>\n",
              "      <th>Custo Total</th>\n",
              "      <th>Custo</th>\n",
              "      <th>Custo</th>\n",
              "    </tr>\n",
              "  </thead>\n",
              "  <tbody>\n",
              "    <tr>\n",
              "      <th>0</th>\n",
              "      <td>2008-05-09</td>\n",
              "      <td>2008-05-29</td>\n",
              "      <td>199</td>\n",
              "      <td>384</td>\n",
              "      <td>18839</td>\n",
              "      <td>200805093CS607</td>\n",
              "      <td>348.58</td>\n",
              "      <td>758.0</td>\n",
              "      <td>6</td>\n",
              "      <td>0.0</td>\n",
              "      <td>4548.0</td>\n",
              "      <td>Adventure Works Laptop15.4W M1548 Red</td>\n",
              "      <td>Adventure Works</td>\n",
              "      <td>Adventure Works</td>\n",
              "      <td>Regular</td>\n",
              "      <td>Red</td>\n",
              "      <td>2091.48</td>\n",
              "      <td>2091.48</td>\n",
              "      <td>2091.48</td>\n",
              "    </tr>\n",
              "  </tbody>\n",
              "</table>\n",
              "</div>"
            ],
            "text/plain": [
              "  Data Venda Data Envio  ID Loja  ...  Custo Total   Custo     Custo\n",
              "0 2008-05-09 2008-05-29      199  ...      2091.48  2091.48  2091.48\n",
              "\n",
              "[1 rows x 19 columns]"
            ]
          },
          "metadata": {
            "tags": []
          },
          "execution_count": 19
        }
      ]
    },
    {
      "cell_type": "code",
      "metadata": {
        "id": "ONOMUskSjsqV",
        "colab_type": "code",
        "colab": {
          "base_uri": "https://localhost:8080/",
          "height": 34
        },
        "outputId": "7b999be5-8778-4e09-8713-e64e14115d98"
      },
      "source": [
        "#custo total\n",
        "round(df[\"Custo\"].sum(), 2)\n",
        "\n",
        "\n",
        "\n"
      ],
      "execution_count": 20,
      "outputs": [
        {
          "output_type": "execute_result",
          "data": {
            "text/plain": [
              "2486783.05"
            ]
          },
          "metadata": {
            "tags": []
          },
          "execution_count": 20
        }
      ]
    },
    {
      "cell_type": "code",
      "metadata": {
        "id": "q1WVkSiNkSvV",
        "colab_type": "code",
        "colab": {}
      },
      "source": [
        "#Lucro total\n",
        "# criar uma coluna de lucro que será receita- custo\n",
        "df[\"lucro\"] = df[\"Valor Venda\"] - df[\"Custo\"]"
      ],
      "execution_count": 22,
      "outputs": []
    },
    {
      "cell_type": "code",
      "metadata": {
        "id": "PFSJ1BkQk4WK",
        "colab_type": "code",
        "colab": {
          "base_uri": "https://localhost:8080/",
          "height": 168
        },
        "outputId": "eff7c28c-3bbb-4e93-f175-d597bc076af6"
      },
      "source": [
        "df.head(1)"
      ],
      "execution_count": 23,
      "outputs": [
        {
          "output_type": "execute_result",
          "data": {
            "text/html": [
              "<div>\n",
              "<style scoped>\n",
              "    .dataframe tbody tr th:only-of-type {\n",
              "        vertical-align: middle;\n",
              "    }\n",
              "\n",
              "    .dataframe tbody tr th {\n",
              "        vertical-align: top;\n",
              "    }\n",
              "\n",
              "    .dataframe thead th {\n",
              "        text-align: right;\n",
              "    }\n",
              "</style>\n",
              "<table border=\"1\" class=\"dataframe\">\n",
              "  <thead>\n",
              "    <tr style=\"text-align: right;\">\n",
              "      <th></th>\n",
              "      <th>Data Venda</th>\n",
              "      <th>Data Envio</th>\n",
              "      <th>ID Loja</th>\n",
              "      <th>ID Produto</th>\n",
              "      <th>ID Cliente</th>\n",
              "      <th>No. Venda</th>\n",
              "      <th>Custo Unitário</th>\n",
              "      <th>Preço Unitário</th>\n",
              "      <th>Quantidade</th>\n",
              "      <th>Valor Desconto</th>\n",
              "      <th>Valor Venda</th>\n",
              "      <th>Produto</th>\n",
              "      <th>Fabricante</th>\n",
              "      <th>Marca</th>\n",
              "      <th>Classe</th>\n",
              "      <th>Cor</th>\n",
              "      <th>Custo Total</th>\n",
              "      <th>Custo</th>\n",
              "      <th>Custo</th>\n",
              "      <th>lucro</th>\n",
              "    </tr>\n",
              "  </thead>\n",
              "  <tbody>\n",
              "    <tr>\n",
              "      <th>0</th>\n",
              "      <td>2008-05-09</td>\n",
              "      <td>2008-05-29</td>\n",
              "      <td>199</td>\n",
              "      <td>384</td>\n",
              "      <td>18839</td>\n",
              "      <td>200805093CS607</td>\n",
              "      <td>348.58</td>\n",
              "      <td>758.0</td>\n",
              "      <td>6</td>\n",
              "      <td>0.0</td>\n",
              "      <td>4548.0</td>\n",
              "      <td>Adventure Works Laptop15.4W M1548 Red</td>\n",
              "      <td>Adventure Works</td>\n",
              "      <td>Adventure Works</td>\n",
              "      <td>Regular</td>\n",
              "      <td>Red</td>\n",
              "      <td>2091.48</td>\n",
              "      <td>2091.48</td>\n",
              "      <td>2091.48</td>\n",
              "      <td>2456.52</td>\n",
              "    </tr>\n",
              "  </tbody>\n",
              "</table>\n",
              "</div>"
            ],
            "text/plain": [
              "  Data Venda Data Envio  ID Loja  ...   Custo     Custo    lucro\n",
              "0 2008-05-09 2008-05-29      199  ...  2091.48  2091.48  2456.52\n",
              "\n",
              "[1 rows x 20 columns]"
            ]
          },
          "metadata": {
            "tags": []
          },
          "execution_count": 23
        }
      ]
    },
    {
      "cell_type": "code",
      "metadata": {
        "id": "03jm2onAlBW0",
        "colab_type": "code",
        "colab": {
          "base_uri": "https://localhost:8080/",
          "height": 34
        },
        "outputId": "7f390820-069c-43e4-8782-99a8717ad47c"
      },
      "source": [
        "#lucro total\n",
        "round(df[\"lucro\"].sum(), 2)"
      ],
      "execution_count": 24,
      "outputs": [
        {
          "output_type": "execute_result",
          "data": {
            "text/plain": [
              "3497823.09"
            ]
          },
          "metadata": {
            "tags": []
          },
          "execution_count": 24
        }
      ]
    },
    {
      "cell_type": "code",
      "metadata": {
        "id": "eoxsZL4plP7N",
        "colab_type": "code",
        "colab": {}
      },
      "source": [
        "#criando uma coluna com total de dias para enviar o produto\n",
        "df[\"tempo_envio\"] = df[\"Data Envio\"] - df[\"Data Venda\"]"
      ],
      "execution_count": 25,
      "outputs": []
    },
    {
      "cell_type": "code",
      "metadata": {
        "id": "HYI6mZimmmR1",
        "colab_type": "code",
        "colab": {
          "base_uri": "https://localhost:8080/",
          "height": 168
        },
        "outputId": "66e16677-b39a-460b-9c36-d3f3bf876dc8"
      },
      "source": [
        "df.head(1)"
      ],
      "execution_count": 26,
      "outputs": [
        {
          "output_type": "execute_result",
          "data": {
            "text/html": [
              "<div>\n",
              "<style scoped>\n",
              "    .dataframe tbody tr th:only-of-type {\n",
              "        vertical-align: middle;\n",
              "    }\n",
              "\n",
              "    .dataframe tbody tr th {\n",
              "        vertical-align: top;\n",
              "    }\n",
              "\n",
              "    .dataframe thead th {\n",
              "        text-align: right;\n",
              "    }\n",
              "</style>\n",
              "<table border=\"1\" class=\"dataframe\">\n",
              "  <thead>\n",
              "    <tr style=\"text-align: right;\">\n",
              "      <th></th>\n",
              "      <th>Data Venda</th>\n",
              "      <th>Data Envio</th>\n",
              "      <th>ID Loja</th>\n",
              "      <th>ID Produto</th>\n",
              "      <th>ID Cliente</th>\n",
              "      <th>No. Venda</th>\n",
              "      <th>Custo Unitário</th>\n",
              "      <th>Preço Unitário</th>\n",
              "      <th>Quantidade</th>\n",
              "      <th>Valor Desconto</th>\n",
              "      <th>Valor Venda</th>\n",
              "      <th>Produto</th>\n",
              "      <th>Fabricante</th>\n",
              "      <th>Marca</th>\n",
              "      <th>Classe</th>\n",
              "      <th>Cor</th>\n",
              "      <th>Custo Total</th>\n",
              "      <th>Custo</th>\n",
              "      <th>Custo</th>\n",
              "      <th>lucro</th>\n",
              "      <th>tempo_envio</th>\n",
              "    </tr>\n",
              "  </thead>\n",
              "  <tbody>\n",
              "    <tr>\n",
              "      <th>0</th>\n",
              "      <td>2008-05-09</td>\n",
              "      <td>2008-05-29</td>\n",
              "      <td>199</td>\n",
              "      <td>384</td>\n",
              "      <td>18839</td>\n",
              "      <td>200805093CS607</td>\n",
              "      <td>348.58</td>\n",
              "      <td>758.0</td>\n",
              "      <td>6</td>\n",
              "      <td>0.0</td>\n",
              "      <td>4548.0</td>\n",
              "      <td>Adventure Works Laptop15.4W M1548 Red</td>\n",
              "      <td>Adventure Works</td>\n",
              "      <td>Adventure Works</td>\n",
              "      <td>Regular</td>\n",
              "      <td>Red</td>\n",
              "      <td>2091.48</td>\n",
              "      <td>2091.48</td>\n",
              "      <td>2091.48</td>\n",
              "      <td>2456.52</td>\n",
              "      <td>20 days</td>\n",
              "    </tr>\n",
              "  </tbody>\n",
              "</table>\n",
              "</div>"
            ],
            "text/plain": [
              "  Data Venda Data Envio  ID Loja  ...    Custo    lucro tempo_envio\n",
              "0 2008-05-09 2008-05-29      199  ...  2091.48  2456.52     20 days\n",
              "\n",
              "[1 rows x 21 columns]"
            ]
          },
          "metadata": {
            "tags": []
          },
          "execution_count": 26
        }
      ]
    },
    {
      "cell_type": "code",
      "metadata": {
        "id": "CGeo1Gbpmoc8",
        "colab_type": "code",
        "colab": {}
      },
      "source": [
        "#extraindo os dias\n",
        "#df[\"tempo_envio\"] =(df[\"Data envio\"] - df)\n",
        "df[\"tempo_envio\"].dtype"
      ],
      "execution_count": null,
      "outputs": []
    },
    {
      "cell_type": "code",
      "metadata": {
        "id": "dwDDl6h9nHCm",
        "colab_type": "code",
        "colab": {}
      },
      "source": [
        "\n",
        "\n",
        "df.groupbygroupby(\"Marca\")[\"tempo_envio\"].mean()"
      ],
      "execution_count": null,
      "outputs": []
    },
    {
      "cell_type": "code",
      "metadata": {
        "id": "NutT6gsan4C1",
        "colab_type": "code",
        "colab": {
          "base_uri": "https://localhost:8080/",
          "height": 391
        },
        "outputId": "11ce7c9f-21f6-4e7f-b2b2-da5c6952ff87"
      },
      "source": [
        "# verificando os valores faltantes\n",
        "df.isnull().sum()"
      ],
      "execution_count": 35,
      "outputs": [
        {
          "output_type": "execute_result",
          "data": {
            "text/plain": [
              "Data Venda        0\n",
              "Data Envio        0\n",
              "ID Loja           0\n",
              "ID Produto        0\n",
              "ID Cliente        0\n",
              "No. Venda         0\n",
              "Custo Unitário    0\n",
              "Preço Unitário    0\n",
              "Quantidade        0\n",
              "Valor Desconto    0\n",
              "Valor Venda       0\n",
              "Produto           0\n",
              "Fabricante        0\n",
              "Marca             0\n",
              "Classe            0\n",
              "Cor               0\n",
              "Custo Total       0\n",
              "Custo             0\n",
              "Custo             0\n",
              "lucro             0\n",
              "tempo_envio       0\n",
              "dtype: int64"
            ]
          },
          "metadata": {
            "tags": []
          },
          "execution_count": 35
        }
      ]
    },
    {
      "cell_type": "code",
      "metadata": {
        "id": "ZfTHzHHioE_K",
        "colab_type": "code",
        "colab": {
          "base_uri": "https://localhost:8080/",
          "height": 153
        },
        "outputId": "d79bfdec-a6d2-49ff-e786-0326f20be2e0"
      },
      "source": [
        "#agrupar lucro por ano e pro marcar\n",
        "df.groupby([df[\"Data Venda\"].dt.year,\"Marca\"])[\"lucro\"].sum()"
      ],
      "execution_count": 36,
      "outputs": [
        {
          "output_type": "execute_result",
          "data": {
            "text/plain": [
              "Data Venda  Marca          \n",
              "2008        Adventure Works    3.066412e+05\n",
              "            Contoso            5.641600e+04\n",
              "            Fabrikam           1.557021e+06\n",
              "2009        Adventure Works    4.053951e+05\n",
              "            Contoso            1.382590e+05\n",
              "            Fabrikam           1.034091e+06\n",
              "Name: lucro, dtype: float64"
            ]
          },
          "metadata": {
            "tags": []
          },
          "execution_count": 36
        }
      ]
    },
    {
      "cell_type": "code",
      "metadata": {
        "id": "bqBasrTkokVk",
        "colab_type": "code",
        "colab": {}
      },
      "source": [
        "#resetando o index\n",
        "lucro_ano = df.groupby([df[\"Data Venda\"].dt.year,\"Marca\"])[\"lucro\"].sum().reset_index()"
      ],
      "execution_count": 37,
      "outputs": []
    },
    {
      "cell_type": "code",
      "metadata": {
        "id": "tGgWViscpKeJ",
        "colab_type": "code",
        "colab": {
          "base_uri": "https://localhost:8080/",
          "height": 235
        },
        "outputId": "99ae4eff-904a-4e6b-9555-598ea22ed701"
      },
      "source": [
        "lucro_ano"
      ],
      "execution_count": 38,
      "outputs": [
        {
          "output_type": "execute_result",
          "data": {
            "text/html": [
              "<div>\n",
              "<style scoped>\n",
              "    .dataframe tbody tr th:only-of-type {\n",
              "        vertical-align: middle;\n",
              "    }\n",
              "\n",
              "    .dataframe tbody tr th {\n",
              "        vertical-align: top;\n",
              "    }\n",
              "\n",
              "    .dataframe thead th {\n",
              "        text-align: right;\n",
              "    }\n",
              "</style>\n",
              "<table border=\"1\" class=\"dataframe\">\n",
              "  <thead>\n",
              "    <tr style=\"text-align: right;\">\n",
              "      <th></th>\n",
              "      <th>Data Venda</th>\n",
              "      <th>Marca</th>\n",
              "      <th>lucro</th>\n",
              "    </tr>\n",
              "  </thead>\n",
              "  <tbody>\n",
              "    <tr>\n",
              "      <th>0</th>\n",
              "      <td>2008</td>\n",
              "      <td>Adventure Works</td>\n",
              "      <td>3.066412e+05</td>\n",
              "    </tr>\n",
              "    <tr>\n",
              "      <th>1</th>\n",
              "      <td>2008</td>\n",
              "      <td>Contoso</td>\n",
              "      <td>5.641600e+04</td>\n",
              "    </tr>\n",
              "    <tr>\n",
              "      <th>2</th>\n",
              "      <td>2008</td>\n",
              "      <td>Fabrikam</td>\n",
              "      <td>1.557021e+06</td>\n",
              "    </tr>\n",
              "    <tr>\n",
              "      <th>3</th>\n",
              "      <td>2009</td>\n",
              "      <td>Adventure Works</td>\n",
              "      <td>4.053951e+05</td>\n",
              "    </tr>\n",
              "    <tr>\n",
              "      <th>4</th>\n",
              "      <td>2009</td>\n",
              "      <td>Contoso</td>\n",
              "      <td>1.382590e+05</td>\n",
              "    </tr>\n",
              "    <tr>\n",
              "      <th>5</th>\n",
              "      <td>2009</td>\n",
              "      <td>Fabrikam</td>\n",
              "      <td>1.034091e+06</td>\n",
              "    </tr>\n",
              "  </tbody>\n",
              "</table>\n",
              "</div>"
            ],
            "text/plain": [
              "   Data Venda            Marca         lucro\n",
              "0        2008  Adventure Works  3.066412e+05\n",
              "1        2008          Contoso  5.641600e+04\n",
              "2        2008         Fabrikam  1.557021e+06\n",
              "3        2009  Adventure Works  4.053951e+05\n",
              "4        2009          Contoso  1.382590e+05\n",
              "5        2009         Fabrikam  1.034091e+06"
            ]
          },
          "metadata": {
            "tags": []
          },
          "execution_count": 38
        }
      ]
    },
    {
      "cell_type": "code",
      "metadata": {
        "id": "Y923OHtWpNL8",
        "colab_type": "code",
        "colab": {
          "base_uri": "https://localhost:8080/",
          "height": 204
        },
        "outputId": "0944df6a-697d-4bad-f2b3-5ff35a978ec5"
      },
      "source": [
        "#total de produtos vendidos\n",
        "df.groupby(\"Produto\")[\"Quantidade\"].sum().sort_values(ascending=False)"
      ],
      "execution_count": 40,
      "outputs": [
        {
          "output_type": "execute_result",
          "data": {
            "text/plain": [
              "Produto\n",
              "Headphone Adapter for Contoso Phone E130 Silver    25232\n",
              "Headphone Adapter for Contoso Phone E130 White     25008\n",
              "Adventure Works Laptop15.4W M1548 Black             1089\n",
              "Fabrikam Trendsetter 2/3'' 17mm X100 Grey           1087\n",
              "Adventure Works Laptop15.4W M1548 Red               1047\n",
              "Fabrikam Trendsetter 2/3'' 17mm X100 Black           926\n",
              "Fabrikam Trendsetter 1/3'' 8.5mm X200 Black          884\n",
              "Fabrikam Trendsetter 1/3'' 8.5mm X200 Grey           845\n",
              "Fabrikam Trendsetter 1/3'' 8.5mm X200 White          789\n",
              "Name: Quantidade, dtype: int64"
            ]
          },
          "metadata": {
            "tags": []
          },
          "execution_count": 40
        }
      ]
    },
    {
      "cell_type": "code",
      "metadata": {
        "id": "yu-QVoE3ps75",
        "colab_type": "code",
        "colab": {}
      },
      "source": [
        "#passando para um garfico\n",
        "df.groupby(\"Produto\")[\"Quantidade\"].sum().sort_values(ascending=False).plot.barh(title=\"Total de Produtos Vendidos\", color=\"Magenta\")\n",
        "#plt.xlablel(\"total\")\n",
        "plt.ylablel(\"Produto\");"
      ],
      "execution_count": null,
      "outputs": []
    },
    {
      "cell_type": "code",
      "metadata": {
        "id": "XKm3lojXqs4V",
        "colab_type": "code",
        "colab": {}
      },
      "source": [
        "df.to_csv(\"df_vendas_novo.csv\",index=False)"
      ],
      "execution_count": 43,
      "outputs": []
    },
    {
      "cell_type": "code",
      "metadata": {
        "id": "p_-R8otAtUFZ",
        "colab_type": "code",
        "colab": {}
      },
      "source": [
        ""
      ],
      "execution_count": null,
      "outputs": []
    }
  ]
}